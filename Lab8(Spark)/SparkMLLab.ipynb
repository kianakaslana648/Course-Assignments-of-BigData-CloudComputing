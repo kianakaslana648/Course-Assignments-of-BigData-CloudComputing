{
 "cells": [
  {
   "cell_type": "markdown",
   "metadata": {},
   "source": [
    "# Lab: Spark Machine Learning\n",
    "\n",
    "In this lab you will be digging into the world of credit markets and peer-to-peer lending. Loan decisions from financial institutions depend on a vast trove of data on borrower characteristics, market trends, and more. The best way to harness the vast data is with machine learning. An [article by the Brookings Institution](https://www.brookings.edu/research/credit-denial-in-the-age-of-ai/) discusses the impact of AI on loan decisions and higlights that “If there are data out there on you, there is probably a way to integrate it into a credit model.” "
   ]
  },
  {
   "cell_type": "markdown",
   "metadata": {},
   "source": [
    "We will use Spark Machine Learning to build a machine learning pipeline that can model and predict credit worthiness. The data we will be using comes from Lending Club, a company that conducted peer-to-peer lending from 2007 to 2020. There are over 2.9 million loans in the dataset. Each row of data about the loan, credit history, and the success of the loan. Credit history variables include  number of accounts, past missed payments, occupation, years of experience, etc. You can read about the source data [from Kaggle](https://www.kaggle.com/ethon0426/lending-club-20072020q1)."
   ]
  },
  {
   "cell_type": "markdown",
   "metadata": {},
   "source": [
    "## Understanding your data"
   ]
  },
  {
   "cell_type": "markdown",
   "metadata": {},
   "source": [
    "Find all your Spark related environment variables, and pyspark using the `findspark.init()` function:"
   ]
  },
  {
   "cell_type": "code",
   "execution_count": 1,
   "metadata": {},
   "outputs": [],
   "source": [
    "import findspark\n",
    "findspark.init()"
   ]
  },
  {
   "cell_type": "markdown",
   "metadata": {},
   "source": [
    "Create your SparkSession. You are only going to create a `SparkSession`, not a `SparkContext`."
   ]
  },
  {
   "cell_type": "code",
   "execution_count": 2,
   "metadata": {},
   "outputs": [],
   "source": [
    "import pyspark.sql.functions as f\n",
    "from pyspark.sql.functions import col, lit\n",
    "from pyspark.sql import SparkSession"
   ]
  },
  {
   "cell_type": "code",
   "execution_count": 3,
   "metadata": {},
   "outputs": [
    {
     "name": "stderr",
     "output_type": "stream",
     "text": [
      "Setting default log level to \"WARN\".\n",
      "To adjust logging level use sc.setLogLevel(newLevel). For SparkR, use setLogLevel(newLevel).\n",
      "22/10/18 20:43:54 WARN Client: Neither spark.yarn.jars nor spark.yarn.archive is set, falling back to uploading libraries under SPARK_HOME.\n"
     ]
    }
   ],
   "source": [
    "spark = SparkSession.builder.appName(\"lendingclub\").getOrCreate()"
   ]
  },
  {
   "cell_type": "markdown",
   "metadata": {},
   "source": [
    "Make sure your SparkSession is active:"
   ]
  },
  {
   "cell_type": "code",
   "execution_count": 4,
   "metadata": {},
   "outputs": [
    {
     "data": {
      "text/html": [
       "\n",
       "            <div>\n",
       "                <p><b>SparkSession - in-memory</b></p>\n",
       "                \n",
       "        <div>\n",
       "            <p><b>SparkContext</b></p>\n",
       "\n",
       "            <p><a href=\"http://ip-172-31-20-112.ec2.internal:4040\">Spark UI</a></p>\n",
       "\n",
       "            <dl>\n",
       "              <dt>Version</dt>\n",
       "                <dd><code>v3.0.0-amzn-0</code></dd>\n",
       "              <dt>Master</dt>\n",
       "                <dd><code>yarn</code></dd>\n",
       "              <dt>AppName</dt>\n",
       "                <dd><code>lendingclub</code></dd>\n",
       "            </dl>\n",
       "        </div>\n",
       "        \n",
       "            </div>\n",
       "        "
      ],
      "text/plain": [
       "<pyspark.sql.session.SparkSession at 0x7fb3a523d690>"
      ]
     },
     "execution_count": 4,
     "metadata": {},
     "output_type": "execute_result"
    }
   ],
   "source": [
    "spark"
   ]
  },
  {
   "cell_type": "markdown",
   "metadata": {},
   "source": [
    "## 1. Read in the data\n",
    "\n",
    "The data is in the format of an Apache Parquet file. This file format is optimized for use on clusters, which you can read more about [here](https://drill.apache.org/docs/parquet-format/). You will be working with this file using [Spark DataFrame API and Spark SQL](https://spark.apache.org/docs/latest/sql-programming-guide.html) as we did in the SparkSQL lab.\n",
    "\n",
    "Start off by moving the data from the central bucket to your personal bucket."
   ]
  },
  {
   "cell_type": "code",
   "execution_count": 5,
   "metadata": {},
   "outputs": [
    {
     "name": "stdout",
     "output_type": "stream",
     "text": [
      "copy: s3://bigdatateaching/lendingclub/lendingclub_loan_data.parquet to s3://mc2582/lendingclub_loan_data.parquet\n"
     ]
    }
   ],
   "source": [
    "!aws s3 cp s3://bigdatateaching/lendingclub s3://mc2582 --recursive"
   ]
  },
  {
   "cell_type": "markdown",
   "metadata": {},
   "source": [
    "Load in the Parquet file using [Generic load functions for SparkSQL](https://spark.apache.org/docs/latest/sql-programming-guide.html#data-sources), which is located at `s3://[[YOUR-BUCKET-NAME]]/lendingclub/lendingclub_loan_data.parquet`.\n",
    "\n",
    "Create a DataFrame called `df_in`, which should contain many rows and over 140 columns."
   ]
  },
  {
   "cell_type": "code",
   "execution_count": 7,
   "metadata": {},
   "outputs": [],
   "source": [
    "df_in = spark.read.parquet('s3://mc2582/lendingclub_loan_data.parquet')"
   ]
  },
  {
   "cell_type": "markdown",
   "metadata": {},
   "source": [
    "Whenever you load in a new dataset, you will always do the following three actions:\n",
    "\n",
    "    1. Get a count of the rows\n",
    "    2. Print the schema of the data\n",
    "    3. View the first few rows of the data (there are a lot of columns so just look at 3)\n",
    "\n",
    "Do these steps now!"
   ]
  },
  {
   "cell_type": "code",
   "execution_count": 8,
   "metadata": {},
   "outputs": [
    {
     "name": "stderr",
     "output_type": "stream",
     "text": [
      "22/10/18 15:45:07 WARN package: Truncated the string representation of a plan since it was too large. This behavior can be adjusted by setting 'spark.sql.debug.maxToStringFields'.\n",
      "                                                                                \r"
     ]
    },
    {
     "data": {
      "text/plain": [
       "2925492"
      ]
     },
     "execution_count": 8,
     "metadata": {},
     "output_type": "execute_result"
    }
   ],
   "source": [
    "df_in.count()"
   ]
  },
  {
   "cell_type": "code",
   "execution_count": 9,
   "metadata": {},
   "outputs": [
    {
     "name": "stdout",
     "output_type": "stream",
     "text": [
      "root\n",
      " |-- id: string (nullable = true)\n",
      " |-- loan_amnt: double (nullable = true)\n",
      " |-- funded_amnt: double (nullable = true)\n",
      " |-- funded_amnt_inv: double (nullable = true)\n",
      " |-- term: string (nullable = true)\n",
      " |-- int_rate: string (nullable = true)\n",
      " |-- installment: double (nullable = true)\n",
      " |-- grade: string (nullable = true)\n",
      " |-- sub_grade: string (nullable = true)\n",
      " |-- emp_title: string (nullable = true)\n",
      " |-- emp_length: string (nullable = true)\n",
      " |-- home_ownership: string (nullable = true)\n",
      " |-- annual_inc: double (nullable = true)\n",
      " |-- verification_status: string (nullable = true)\n",
      " |-- issue_d: string (nullable = true)\n",
      " |-- loan_status: string (nullable = true)\n",
      " |-- pymnt_plan: string (nullable = true)\n",
      " |-- url: string (nullable = true)\n",
      " |-- purpose: string (nullable = true)\n",
      " |-- title: string (nullable = true)\n",
      " |-- zip_code: string (nullable = true)\n",
      " |-- addr_state: string (nullable = true)\n",
      " |-- dti: double (nullable = true)\n",
      " |-- delinq_2yrs: double (nullable = true)\n",
      " |-- earliest_cr_line: string (nullable = true)\n",
      " |-- fico_range_low: double (nullable = true)\n",
      " |-- fico_range_high: double (nullable = true)\n",
      " |-- inq_last_6mths: double (nullable = true)\n",
      " |-- mths_since_last_delinq: double (nullable = true)\n",
      " |-- mths_since_last_record: double (nullable = true)\n",
      " |-- open_acc: double (nullable = true)\n",
      " |-- pub_rec: double (nullable = true)\n",
      " |-- revol_bal: double (nullable = true)\n",
      " |-- revol_util: string (nullable = true)\n",
      " |-- total_acc: double (nullable = true)\n",
      " |-- initial_list_status: string (nullable = true)\n",
      " |-- out_prncp: double (nullable = true)\n",
      " |-- out_prncp_inv: double (nullable = true)\n",
      " |-- total_pymnt: double (nullable = true)\n",
      " |-- total_pymnt_inv: double (nullable = true)\n",
      " |-- total_rec_prncp: double (nullable = true)\n",
      " |-- total_rec_int: double (nullable = true)\n",
      " |-- total_rec_late_fee: double (nullable = true)\n",
      " |-- recoveries: double (nullable = true)\n",
      " |-- collection_recovery_fee: double (nullable = true)\n",
      " |-- last_pymnt_d: string (nullable = true)\n",
      " |-- last_pymnt_amnt: double (nullable = true)\n",
      " |-- next_pymnt_d: string (nullable = true)\n",
      " |-- last_credit_pull_d: string (nullable = true)\n",
      " |-- last_fico_range_high: double (nullable = true)\n",
      " |-- last_fico_range_low: double (nullable = true)\n",
      " |-- collections_12_mths_ex_med: double (nullable = true)\n",
      " |-- mths_since_last_major_derog: double (nullable = true)\n",
      " |-- policy_code: double (nullable = true)\n",
      " |-- application_type: string (nullable = true)\n",
      " |-- annual_inc_joint: double (nullable = true)\n",
      " |-- dti_joint: double (nullable = true)\n",
      " |-- verification_status_joint: string (nullable = true)\n",
      " |-- acc_now_delinq: double (nullable = true)\n",
      " |-- tot_coll_amt: double (nullable = true)\n",
      " |-- tot_cur_bal: double (nullable = true)\n",
      " |-- open_acc_6m: double (nullable = true)\n",
      " |-- open_act_il: double (nullable = true)\n",
      " |-- open_il_12m: double (nullable = true)\n",
      " |-- open_il_24m: double (nullable = true)\n",
      " |-- mths_since_rcnt_il: double (nullable = true)\n",
      " |-- total_bal_il: double (nullable = true)\n",
      " |-- il_util: double (nullable = true)\n",
      " |-- open_rv_12m: double (nullable = true)\n",
      " |-- open_rv_24m: double (nullable = true)\n",
      " |-- max_bal_bc: double (nullable = true)\n",
      " |-- all_util: double (nullable = true)\n",
      " |-- total_rev_hi_lim: double (nullable = true)\n",
      " |-- inq_fi: double (nullable = true)\n",
      " |-- total_cu_tl: double (nullable = true)\n",
      " |-- inq_last_12m: double (nullable = true)\n",
      " |-- acc_open_past_24mths: double (nullable = true)\n",
      " |-- avg_cur_bal: double (nullable = true)\n",
      " |-- bc_open_to_buy: double (nullable = true)\n",
      " |-- bc_util: double (nullable = true)\n",
      " |-- chargeoff_within_12_mths: double (nullable = true)\n",
      " |-- delinq_amnt: double (nullable = true)\n",
      " |-- mo_sin_old_il_acct: double (nullable = true)\n",
      " |-- mo_sin_old_rev_tl_op: double (nullable = true)\n",
      " |-- mo_sin_rcnt_rev_tl_op: double (nullable = true)\n",
      " |-- mo_sin_rcnt_tl: double (nullable = true)\n",
      " |-- mort_acc: double (nullable = true)\n",
      " |-- mths_since_recent_bc: double (nullable = true)\n",
      " |-- mths_since_recent_bc_dlq: double (nullable = true)\n",
      " |-- mths_since_recent_inq: double (nullable = true)\n",
      " |-- mths_since_recent_revol_delinq: double (nullable = true)\n",
      " |-- num_accts_ever_120_pd: double (nullable = true)\n",
      " |-- num_actv_bc_tl: double (nullable = true)\n",
      " |-- num_actv_rev_tl: double (nullable = true)\n",
      " |-- num_bc_sats: double (nullable = true)\n",
      " |-- num_bc_tl: double (nullable = true)\n",
      " |-- num_il_tl: double (nullable = true)\n",
      " |-- num_op_rev_tl: double (nullable = true)\n",
      " |-- num_rev_accts: double (nullable = true)\n",
      " |-- num_rev_tl_bal_gt_0: double (nullable = true)\n",
      " |-- num_sats: double (nullable = true)\n",
      " |-- num_tl_120dpd_2m: double (nullable = true)\n",
      " |-- num_tl_30dpd: double (nullable = true)\n",
      " |-- num_tl_90g_dpd_24m: double (nullable = true)\n",
      " |-- num_tl_op_past_12m: double (nullable = true)\n",
      " |-- pct_tl_nvr_dlq: double (nullable = true)\n",
      " |-- percent_bc_gt_75: double (nullable = true)\n",
      " |-- pub_rec_bankruptcies: double (nullable = true)\n",
      " |-- tax_liens: double (nullable = true)\n",
      " |-- tot_hi_cred_lim: double (nullable = true)\n",
      " |-- total_bal_ex_mort: double (nullable = true)\n",
      " |-- total_bc_limit: double (nullable = true)\n",
      " |-- total_il_high_credit_limit: double (nullable = true)\n",
      " |-- revol_bal_joint: double (nullable = true)\n",
      " |-- sec_app_fico_range_low: double (nullable = true)\n",
      " |-- sec_app_fico_range_high: double (nullable = true)\n",
      " |-- sec_app_earliest_cr_line: string (nullable = true)\n",
      " |-- sec_app_inq_last_6mths: double (nullable = true)\n",
      " |-- sec_app_mort_acc: double (nullable = true)\n",
      " |-- sec_app_open_acc: double (nullable = true)\n",
      " |-- sec_app_revol_util: double (nullable = true)\n",
      " |-- sec_app_open_act_il: double (nullable = true)\n",
      " |-- sec_app_num_rev_accts: double (nullable = true)\n",
      " |-- sec_app_chargeoff_within_12_mths: double (nullable = true)\n",
      " |-- sec_app_collections_12_mths_ex_med: double (nullable = true)\n",
      " |-- hardship_flag: string (nullable = true)\n",
      " |-- hardship_type: string (nullable = true)\n",
      " |-- hardship_reason: string (nullable = true)\n",
      " |-- hardship_status: string (nullable = true)\n",
      " |-- deferral_term: double (nullable = true)\n",
      " |-- hardship_amount: double (nullable = true)\n",
      " |-- hardship_start_date: string (nullable = true)\n",
      " |-- hardship_end_date: string (nullable = true)\n",
      " |-- payment_plan_start_date: string (nullable = true)\n",
      " |-- hardship_length: double (nullable = true)\n",
      " |-- hardship_dpd: double (nullable = true)\n",
      " |-- hardship_loan_status: string (nullable = true)\n",
      " |-- orig_projected_additional_accrued_interest: double (nullable = true)\n",
      " |-- hardship_payoff_balance_amount: double (nullable = true)\n",
      " |-- hardship_last_payment_amount: double (nullable = true)\n",
      " |-- debt_settlement_flag: string (nullable = true)\n",
      " |-- __index_level_0__: long (nullable = true)\n",
      "\n"
     ]
    }
   ],
   "source": [
    "df_in.printSchema()"
   ]
  },
  {
   "cell_type": "code",
   "execution_count": 11,
   "metadata": {
    "tags": []
   },
   "outputs": [
    {
     "name": "stderr",
     "output_type": "stream",
     "text": [
      "[Stage 9:======================================================>  (19 + 1) / 20]\r"
     ]
    },
    {
     "name": "stdout",
     "output_type": "stream",
     "text": [
      "+-------+---------+-----------+---------------+----------+--------+-----------+-----+---------+---------+----------+--------------+----------+-------------------+--------+-----------+----------+--------------------+--------------+--------------------+--------+----------+-----+-----------+----------------+--------------+---------------+--------------+----------------------+----------------------+--------+-------+---------+----------+---------+-------------------+---------+-------------+---------------+---------------+---------------+-------------+------------------+----------+-----------------------+------------+---------------+------------+------------------+--------------------+-------------------+--------------------------+---------------------------+-----------+----------------+----------------+---------+-------------------------+--------------+------------+-----------+-----------+-----------+-----------+-----------+------------------+------------+-------+-----------+-----------+----------+--------+----------------+------+-----------+------------+--------------------+-----------+--------------+-------+------------------------+-----------+------------------+--------------------+---------------------+--------------+--------+--------------------+------------------------+---------------------+------------------------------+---------------------+--------------+---------------+-----------+---------+---------+-------------+-------------+-------------------+--------+----------------+------------+------------------+------------------+--------------+----------------+--------------------+---------+---------------+-----------------+--------------+--------------------------+---------------+----------------------+-----------------------+------------------------+----------------------+----------------+----------------+------------------+-------------------+---------------------+--------------------------------+----------------------------------+-------------+-------------+---------------+---------------+-------------+---------------+-------------------+-----------------+-----------------------+---------------+------------+--------------------+------------------------------------------+------------------------------+----------------------------+--------------------+-----------------+\n",
      "|     id|loan_amnt|funded_amnt|funded_amnt_inv|      term|int_rate|installment|grade|sub_grade|emp_title|emp_length|home_ownership|annual_inc|verification_status| issue_d|loan_status|pymnt_plan|                 url|       purpose|               title|zip_code|addr_state|  dti|delinq_2yrs|earliest_cr_line|fico_range_low|fico_range_high|inq_last_6mths|mths_since_last_delinq|mths_since_last_record|open_acc|pub_rec|revol_bal|revol_util|total_acc|initial_list_status|out_prncp|out_prncp_inv|    total_pymnt|total_pymnt_inv|total_rec_prncp|total_rec_int|total_rec_late_fee|recoveries|collection_recovery_fee|last_pymnt_d|last_pymnt_amnt|next_pymnt_d|last_credit_pull_d|last_fico_range_high|last_fico_range_low|collections_12_mths_ex_med|mths_since_last_major_derog|policy_code|application_type|annual_inc_joint|dti_joint|verification_status_joint|acc_now_delinq|tot_coll_amt|tot_cur_bal|open_acc_6m|open_act_il|open_il_12m|open_il_24m|mths_since_rcnt_il|total_bal_il|il_util|open_rv_12m|open_rv_24m|max_bal_bc|all_util|total_rev_hi_lim|inq_fi|total_cu_tl|inq_last_12m|acc_open_past_24mths|avg_cur_bal|bc_open_to_buy|bc_util|chargeoff_within_12_mths|delinq_amnt|mo_sin_old_il_acct|mo_sin_old_rev_tl_op|mo_sin_rcnt_rev_tl_op|mo_sin_rcnt_tl|mort_acc|mths_since_recent_bc|mths_since_recent_bc_dlq|mths_since_recent_inq|mths_since_recent_revol_delinq|num_accts_ever_120_pd|num_actv_bc_tl|num_actv_rev_tl|num_bc_sats|num_bc_tl|num_il_tl|num_op_rev_tl|num_rev_accts|num_rev_tl_bal_gt_0|num_sats|num_tl_120dpd_2m|num_tl_30dpd|num_tl_90g_dpd_24m|num_tl_op_past_12m|pct_tl_nvr_dlq|percent_bc_gt_75|pub_rec_bankruptcies|tax_liens|tot_hi_cred_lim|total_bal_ex_mort|total_bc_limit|total_il_high_credit_limit|revol_bal_joint|sec_app_fico_range_low|sec_app_fico_range_high|sec_app_earliest_cr_line|sec_app_inq_last_6mths|sec_app_mort_acc|sec_app_open_acc|sec_app_revol_util|sec_app_open_act_il|sec_app_num_rev_accts|sec_app_chargeoff_within_12_mths|sec_app_collections_12_mths_ex_med|hardship_flag|hardship_type|hardship_reason|hardship_status|deferral_term|hardship_amount|hardship_start_date|hardship_end_date|payment_plan_start_date|hardship_length|hardship_dpd|hardship_loan_status|orig_projected_additional_accrued_interest|hardship_payoff_balance_amount|hardship_last_payment_amount|debt_settlement_flag|__index_level_0__|\n",
      "+-------+---------+-----------+---------------+----------+--------+-----------+-----+---------+---------+----------+--------------+----------+-------------------+--------+-----------+----------+--------------------+--------------+--------------------+--------+----------+-----+-----------+----------------+--------------+---------------+--------------+----------------------+----------------------+--------+-------+---------+----------+---------+-------------------+---------+-------------+---------------+---------------+---------------+-------------+------------------+----------+-----------------------+------------+---------------+------------+------------------+--------------------+-------------------+--------------------------+---------------------------+-----------+----------------+----------------+---------+-------------------------+--------------+------------+-----------+-----------+-----------+-----------+-----------+------------------+------------+-------+-----------+-----------+----------+--------+----------------+------+-----------+------------+--------------------+-----------+--------------+-------+------------------------+-----------+------------------+--------------------+---------------------+--------------+--------+--------------------+------------------------+---------------------+------------------------------+---------------------+--------------+---------------+-----------+---------+---------+-------------+-------------+-------------------+--------+----------------+------------+------------------+------------------+--------------+----------------+--------------------+---------+---------------+-----------------+--------------+--------------------------+---------------+----------------------+-----------------------+------------------------+----------------------+----------------+----------------+------------------+-------------------+---------------------+--------------------------------+----------------------------------+-------------+-------------+---------------+---------------+-------------+---------------+-------------------+-----------------+-----------------------+---------------+------------+--------------------+------------------------------------------+------------------------------+----------------------------+--------------------+-----------------+\n",
      "|1077501|   5000.0|     5000.0|         4975.0| 36 months|  10.65%|     162.87|    B|       B2|     null| 10+ years|          RENT|   24000.0|           Verified|Dec-2011| Fully Paid|         n|https://lendingcl...|   credit_card|            Computer|   860xx|        AZ|27.65|        0.0|        Jan-1985|         735.0|          739.0|           1.0|                  null|                  null|     3.0|    0.0|  13648.0|     83.7%|      9.0|                  f|      0.0|          0.0|5863.1551866952|        5833.84|         5000.0|       863.16|               0.0|       0.0|                    0.0|    Jan-2015|         171.62|        null|          May-2020|               704.0|              700.0|                       0.0|                       null|        1.0|      Individual|            null|     null|                     null|           0.0|        null|       null|       null|       null|       null|       null|              null|        null|   null|       null|       null|      null|    null|            null|  null|       null|        null|                null|       null|          null|   null|                     0.0|        0.0|              null|                null|                 null|          null|    null|                null|                    null|                 null|                          null|                 null|          null|           null|       null|     null|     null|         null|         null|               null|    null|            null|        null|              null|              null|          null|            null|                 0.0|      0.0|           null|             null|          null|                      null|           null|                  null|                   null|                    null|                  null|            null|            null|              null|               null|                 null|                            null|                              null|            N|         null|           null|           null|         null|           null|               null|             null|                   null|           null|        null|                null|                                      null|                          null|                        null|                   N|                0|\n",
      "|1077430|   2500.0|     2500.0|         2500.0| 60 months|  15.27%|      59.83|    C|       C4|    Ryder|  < 1 year|          RENT|   30000.0|    Source Verified|Dec-2011|Charged Off|         n|https://lendingcl...|           car|                bike|   309xx|        GA|  1.0|        0.0|        Apr-1999|         740.0|          744.0|           5.0|                  null|                  null|     3.0|    0.0|   1687.0|      9.4%|      4.0|                  f|      0.0|          0.0|        1014.53|        1014.53|         456.46|       435.17|               0.0|     122.9|                   1.11|    Apr-2013|         119.66|        null|          Oct-2016|               499.0|                0.0|                       0.0|                       null|        1.0|      Individual|            null|     null|                     null|           0.0|        null|       null|       null|       null|       null|       null|              null|        null|   null|       null|       null|      null|    null|            null|  null|       null|        null|                null|       null|          null|   null|                     0.0|        0.0|              null|                null|                 null|          null|    null|                null|                    null|                 null|                          null|                 null|          null|           null|       null|     null|     null|         null|         null|               null|    null|            null|        null|              null|              null|          null|            null|                 0.0|      0.0|           null|             null|          null|                      null|           null|                  null|                   null|                    null|                  null|            null|            null|              null|               null|                 null|                            null|                              null|            N|         null|           null|           null|         null|           null|               null|             null|                   null|           null|        null|                null|                                      null|                          null|                        null|                   N|                1|\n",
      "|1077175|   2400.0|     2400.0|         2400.0| 36 months|  15.96%|      84.33|    C|       C5|     null| 10+ years|          RENT|   12252.0|       Not Verified|Dec-2011| Fully Paid|         n|https://lendingcl...|small_business|real estate business|   606xx|        IL| 8.72|        0.0|        Nov-2001|         735.0|          739.0|           2.0|                  null|                  null|     2.0|    0.0|   2956.0|     98.5%|     10.0|                  f|      0.0|          0.0|3005.6668441393|        3005.67|         2400.0|       605.67|               0.0|       0.0|                    0.0|    Jun-2014|         649.91|        null|          Jun-2017|               739.0|              735.0|                       0.0|                       null|        1.0|      Individual|            null|     null|                     null|           0.0|        null|       null|       null|       null|       null|       null|              null|        null|   null|       null|       null|      null|    null|            null|  null|       null|        null|                null|       null|          null|   null|                     0.0|        0.0|              null|                null|                 null|          null|    null|                null|                    null|                 null|                          null|                 null|          null|           null|       null|     null|     null|         null|         null|               null|    null|            null|        null|              null|              null|          null|            null|                 0.0|      0.0|           null|             null|          null|                      null|           null|                  null|                   null|                    null|                  null|            null|            null|              null|               null|                 null|                            null|                              null|            N|         null|           null|           null|         null|           null|               null|             null|                   null|           null|        null|                null|                                      null|                          null|                        null|                   N|                2|\n",
      "+-------+---------+-----------+---------------+----------+--------+-----------+-----+---------+---------+----------+--------------+----------+-------------------+--------+-----------+----------+--------------------+--------------+--------------------+--------+----------+-----+-----------+----------------+--------------+---------------+--------------+----------------------+----------------------+--------+-------+---------+----------+---------+-------------------+---------+-------------+---------------+---------------+---------------+-------------+------------------+----------+-----------------------+------------+---------------+------------+------------------+--------------------+-------------------+--------------------------+---------------------------+-----------+----------------+----------------+---------+-------------------------+--------------+------------+-----------+-----------+-----------+-----------+-----------+------------------+------------+-------+-----------+-----------+----------+--------+----------------+------+-----------+------------+--------------------+-----------+--------------+-------+------------------------+-----------+------------------+--------------------+---------------------+--------------+--------+--------------------+------------------------+---------------------+------------------------------+---------------------+--------------+---------------+-----------+---------+---------+-------------+-------------+-------------------+--------+----------------+------------+------------------+------------------+--------------+----------------+--------------------+---------+---------------+-----------------+--------------+--------------------------+---------------+----------------------+-----------------------+------------------------+----------------------+----------------+----------------+------------------+-------------------+---------------------+--------------------------------+----------------------------------+-------------+-------------+---------------+---------------+-------------+---------------+-------------------+-----------------+-----------------------+---------------+------------+--------------------+------------------------------------------+------------------------------+----------------------------+--------------------+-----------------+\n",
      "only showing top 3 rows\n",
      "\n"
     ]
    },
    {
     "name": "stderr",
     "output_type": "stream",
     "text": [
      "                                                                                \r"
     ]
    }
   ],
   "source": [
    "df_in.show(3)"
   ]
  },
  {
   "cell_type": "markdown",
   "metadata": {
    "tags": []
   },
   "source": [
    "## 2.1 Clean data to prepare for machine learning\n",
    "\n",
    "No dataset is ever ready for modeling without cleaning. There are several steps required to get the data ready:\n",
    "    \n",
    "1. Select only the columns - `['int_rate', 'term', 'loan_status', 'home_ownership', 'tot_cur_bal', 'annual_inc', 'grade', 'bc_util']` and then drop if there are any coded NA values left `.dropna()` [read more here on the method](https://spark.apache.org/docs/latest/api/python/reference/api/pyspark.sql.DataFrame.dropna.html).\n",
    "\n",
    "These columns mean:\n",
    "* `int_rate`: interest rate\n",
    "* `term`: length of the loan\n",
    "* `loan_status`: loan paid, in progress, or charged off\n",
    "* `home_ownership`: home ownership status\n",
    "* `tot_cur_bal`: total current balance on all credit accounts\n",
    "* `grade`: The grade of the loan\n",
    "* `bc_util`: bank card utilization rate\n",
    "\n",
    "2. Extract the numbers from the column `int_rate`. You will have to first use `select` and `show` methods to view what the data looks like. Then you can use the [regex replace technique](https://spark.apache.org/docs/latest/api/python/reference/api/pyspark.sql.functions.regexp_replace.html) `regexp_replace` or a python-based user defined function method. **There are both XX.XX% and X.XX% rate types in this column**. Finally, cast `int_rate` to float.\n",
    "\n",
    "4. Filter to only rows with `loan_status` of \"Fully Paid\" or \"Charged Off\". This means that the loan went to \"maturity\" so we can determine if the loan was successful (fully paid) or unsuccessful (charged off).\n",
    "\n",
    "5. Check the potential values for `term`, `home_ownership`, and `grade`. What are the possible categories of each?\n",
    "\n",
    "6. Drop rows with unusual values for on the `home_ownership` variable . There are several categories that are small and have ambiguous meaning. There are three to drop and three to keep.\n",
    "\n",
    "7. Report the number of rows left in your DataFrame."
   ]
  },
  {
   "cell_type": "markdown",
   "metadata": {},
   "source": [
    "1. Selecting columns"
   ]
  },
  {
   "cell_type": "code",
   "execution_count": 8,
   "metadata": {},
   "outputs": [],
   "source": [
    "df = df_in.select(['int_rate', 'term', 'loan_status', 'home_ownership', 'tot_cur_bal', 'annual_inc', 'grade', 'bc_util'])"
   ]
  },
  {
   "cell_type": "code",
   "execution_count": 19,
   "metadata": {},
   "outputs": [
    {
     "name": "stdout",
     "output_type": "stream",
     "text": [
      "root\n",
      " |-- int_rate: string (nullable = true)\n",
      " |-- term: string (nullable = true)\n",
      " |-- loan_status: string (nullable = true)\n",
      " |-- home_ownership: string (nullable = true)\n",
      " |-- tot_cur_bal: double (nullable = true)\n",
      " |-- annual_inc: double (nullable = true)\n",
      " |-- grade: string (nullable = true)\n",
      " |-- bc_util: double (nullable = true)\n",
      "\n"
     ]
    }
   ],
   "source": [
    "df.printSchema()"
   ]
  },
  {
   "cell_type": "markdown",
   "metadata": {},
   "source": [
    "2. String extraction and data type conversion"
   ]
  },
  {
   "cell_type": "code",
   "execution_count": 79,
   "metadata": {},
   "outputs": [
    {
     "name": "stderr",
     "output_type": "stream",
     "text": [
      "[Stage 104:=================================================>     (18 + 2) / 20]\r"
     ]
    },
    {
     "name": "stdout",
     "output_type": "stream",
     "text": [
      "+--------+\n",
      "|int_rate|\n",
      "+--------+\n",
      "|  10.65%|\n",
      "|  15.27%|\n",
      "|  15.96%|\n",
      "|  13.49%|\n",
      "|  12.69%|\n",
      "|   7.90%|\n",
      "|  15.96%|\n",
      "|  18.64%|\n",
      "|  21.28%|\n",
      "|  12.69%|\n",
      "+--------+\n",
      "only showing top 10 rows\n",
      "\n"
     ]
    },
    {
     "name": "stderr",
     "output_type": "stream",
     "text": [
      "                                                                                \r"
     ]
    }
   ],
   "source": [
    "# always look at the data before\n",
    "df.select('int_rate').show(10)"
   ]
  },
  {
   "cell_type": "code",
   "execution_count": 9,
   "metadata": {},
   "outputs": [],
   "source": [
    "df = df.withColumn('int_rate', f.regexp_extract('int_rate', r'(.*)%', 1).cast('float')*0.01)"
   ]
  },
  {
   "cell_type": "code",
   "execution_count": 10,
   "metadata": {},
   "outputs": [
    {
     "name": "stderr",
     "output_type": "stream",
     "text": [
      "22/10/18 20:44:34 WARN package: Truncated the string representation of a plan since it was too large. This behavior can be adjusted by setting 'spark.sql.debug.maxToStringFields'.\n",
      "[Stage 4:=============================================>           (16 + 4) / 20]\r"
     ]
    },
    {
     "name": "stdout",
     "output_type": "stream",
     "text": [
      "+-------------------+\n",
      "|           int_rate|\n",
      "+-------------------+\n",
      "|0.10649999618530273|\n",
      "|0.15270000457763672|\n",
      "|0.15960000038146974|\n",
      "|0.13489999771118164|\n",
      "|0.12689999580383302|\n",
      "|0.07900000095367432|\n",
      "|0.15960000038146974|\n",
      "|0.18639999389648437|\n",
      "| 0.2128000068664551|\n",
      "|0.12689999580383302|\n",
      "+-------------------+\n",
      "only showing top 10 rows\n",
      "\n"
     ]
    },
    {
     "name": "stderr",
     "output_type": "stream",
     "text": [
      "                                                                                \r"
     ]
    }
   ],
   "source": [
    "# always look at the data after\n",
    "df.select('int_rate').show(10)"
   ]
  },
  {
   "cell_type": "markdown",
   "metadata": {},
   "source": [
    "3. Drop loans that have not completed, keeping only `Charged Off` or `Fully Paid`"
   ]
  },
  {
   "cell_type": "code",
   "execution_count": 33,
   "metadata": {
    "tags": []
   },
   "outputs": [
    {
     "name": "stderr",
     "output_type": "stream",
     "text": [
      "                                                                                \r"
     ]
    },
    {
     "data": {
      "text/plain": [
       "[Row(loan_status='In Grace Period', count=10028),\n",
       " Row(loan_status='Does not meet the credit policy. Status:Fully Paid', count=1988),\n",
       " Row(loan_status='Late (31-120 days)', count=16154),\n",
       " Row(loan_status='Issued', count=2062),\n",
       " Row(loan_status='Does not meet the credit policy. Status:Charged Off', count=761),\n",
       " Row(loan_status='Fully Paid', count=1497783),\n",
       " Row(loan_status='Default', count=433),\n",
       " Row(loan_status='Charged Off', count=362548),\n",
       " Row(loan_status='Current', count=1031016),\n",
       " Row(loan_status='Late (16-30 days)', count=2719)]"
      ]
     },
     "execution_count": 33,
     "metadata": {},
     "output_type": "execute_result"
    }
   ],
   "source": [
    "# a count function by distinct value is quite important in pyspark!\n",
    "df.groupBy('loan_status').count().collect()"
   ]
  },
  {
   "cell_type": "code",
   "execution_count": 11,
   "metadata": {},
   "outputs": [],
   "source": [
    "df = df.filter(col('loan_status').isin(['Charged Off','Fully Paid']))"
   ]
  },
  {
   "cell_type": "code",
   "execution_count": 35,
   "metadata": {},
   "outputs": [
    {
     "name": "stderr",
     "output_type": "stream",
     "text": [
      "                                                                                \r"
     ]
    },
    {
     "data": {
      "text/plain": [
       "[Row(loan_status='Fully Paid', count=1497783),\n",
       " Row(loan_status='Charged Off', count=362548)]"
      ]
     },
     "execution_count": 35,
     "metadata": {},
     "output_type": "execute_result"
    }
   ],
   "source": [
    "df.groupBy('loan_status').count().collect()"
   ]
  },
  {
   "cell_type": "markdown",
   "metadata": {},
   "source": [
    "4. Check possible values for categorical columns"
   ]
  },
  {
   "cell_type": "code",
   "execution_count": 12,
   "metadata": {},
   "outputs": [
    {
     "name": "stderr",
     "output_type": "stream",
     "text": [
      "[Stage 7:======================================================>  (19 + 1) / 20]\r"
     ]
    },
    {
     "name": "stdout",
     "output_type": "stream",
     "text": [
      "+-------------------+----------+-----------+--------------+-----------+----------+-----+-------+\n",
      "|           int_rate|      term|loan_status|home_ownership|tot_cur_bal|annual_inc|grade|bc_util|\n",
      "+-------------------+----------+-----------+--------------+-----------+----------+-----+-------+\n",
      "|0.10649999618530273| 36 months| Fully Paid|          RENT|       null|   24000.0|    B|   null|\n",
      "|0.15270000457763672| 60 months|Charged Off|          RENT|       null|   30000.0|    C|   null|\n",
      "+-------------------+----------+-----------+--------------+-----------+----------+-----+-------+\n",
      "only showing top 2 rows\n",
      "\n"
     ]
    },
    {
     "name": "stderr",
     "output_type": "stream",
     "text": [
      "                                                                                \r"
     ]
    }
   ],
   "source": [
    "df.show(2)"
   ]
  },
  {
   "cell_type": "code",
   "execution_count": 39,
   "metadata": {},
   "outputs": [
    {
     "name": "stderr",
     "output_type": "stream",
     "text": [
      "                                                                                \r"
     ]
    },
    {
     "data": {
      "text/plain": [
       "[Row(term=' 60 months', count=467032), Row(term=' 36 months', count=1393299)]"
      ]
     },
     "execution_count": 39,
     "metadata": {},
     "output_type": "execute_result"
    }
   ],
   "source": [
    "df.groupBy('term').count().collect()"
   ]
  },
  {
   "cell_type": "code",
   "execution_count": 41,
   "metadata": {},
   "outputs": [
    {
     "name": "stderr",
     "output_type": "stream",
     "text": [
      "                                                                                \r"
     ]
    },
    {
     "data": {
      "text/plain": [
       "[Row(home_ownership='MORTGAGE', count=918028),\n",
       " Row(home_ownership='ANY', count=1174),\n",
       " Row(home_ownership='NONE', count=49),\n",
       " Row(home_ownership='RENT', count=735358),\n",
       " Row(home_ownership='OWN', count=205578),\n",
       " Row(home_ownership='OTHER', count=144)]"
      ]
     },
     "execution_count": 41,
     "metadata": {},
     "output_type": "execute_result"
    }
   ],
   "source": [
    "df.groupBy('home_ownership').count().collect()"
   ]
  },
  {
   "cell_type": "code",
   "execution_count": 42,
   "metadata": {},
   "outputs": [
    {
     "name": "stderr",
     "output_type": "stream",
     "text": [
      "                                                                                \r"
     ]
    },
    {
     "data": {
      "text/plain": [
       "[Row(grade='D', count=275001),\n",
       " Row(grade='B', count=546603),\n",
       " Row(grade='G', count=10695),\n",
       " Row(grade='F', count=37108),\n",
       " Row(grade='C', count=528107),\n",
       " Row(grade='E', count=116500),\n",
       " Row(grade='A', count=346317)]"
      ]
     },
     "execution_count": 42,
     "metadata": {},
     "output_type": "execute_result"
    }
   ],
   "source": [
    "df.groupBy('grade').count().collect()"
   ]
  },
  {
   "cell_type": "markdown",
   "metadata": {},
   "source": [
    "5. Drop rows with explicitly missing data"
   ]
  },
  {
   "cell_type": "code",
   "execution_count": 13,
   "metadata": {},
   "outputs": [],
   "source": [
    "df = df.na.drop('any')"
   ]
  },
  {
   "cell_type": "markdown",
   "metadata": {},
   "source": [
    "6. Report how much data remains after your cleaning steps"
   ]
  },
  {
   "cell_type": "code",
   "execution_count": 14,
   "metadata": {},
   "outputs": [
    {
     "name": "stderr",
     "output_type": "stream",
     "text": [
      "                                                                                \r"
     ]
    },
    {
     "data": {
      "text/plain": [
       "1771614"
      ]
     },
     "execution_count": 14,
     "metadata": {},
     "output_type": "execute_result"
    }
   ],
   "source": [
    "df.count()"
   ]
  },
  {
   "cell_type": "markdown",
   "metadata": {},
   "source": [
    "**Run this cell to export 5 rows of your data to a json for grading**"
   ]
  },
  {
   "cell_type": "code",
   "execution_count": 46,
   "metadata": {
    "tags": []
   },
   "outputs": [
    {
     "name": "stderr",
     "output_type": "stream",
     "text": [
      "                                                                                \r"
     ]
    }
   ],
   "source": [
    "import json\n",
    "json.dump({'df' : df.limit(5).toPandas().to_dict('records'),\n",
    "           'home_counts' : [x.asDict() for x in df.groupby('home_ownership').count().collect()]\n",
    "          },\n",
    "          fp = open('data-soln-1.json','w'))"
   ]
  },
  {
   "cell_type": "markdown",
   "metadata": {},
   "source": [
    "## 2.2. Split data into train, test, and split\n",
    "\n",
    "In this section you will split your data into: train, test and predict datasets. Create three splits of `df_in` (train, test, predict) by using the `randomSplit` method. Read more about the method [here](https://spark.apache.org/docs/latest/api/python/reference/api/pyspark.sql.DataFrame.randomSplit.html)."
   ]
  },
  {
   "cell_type": "code",
   "execution_count": 27,
   "metadata": {},
   "outputs": [],
   "source": [
    "train_data, test_data, predict_data = df.randomSplit([0.8, 0.18, 0.02], 24)"
   ]
  },
  {
   "cell_type": "markdown",
   "metadata": {},
   "source": [
    "After splitting into three datasets, report the number of rows for each split."
   ]
  },
  {
   "cell_type": "code",
   "execution_count": 28,
   "metadata": {},
   "outputs": [
    {
     "name": "stderr",
     "output_type": "stream",
     "text": [
      "                                                                                \r"
     ]
    },
    {
     "name": "stdout",
     "output_type": "stream",
     "text": [
      "Number of training records: 1416786\n"
     ]
    },
    {
     "name": "stderr",
     "output_type": "stream",
     "text": [
      "                                                                                \r"
     ]
    },
    {
     "name": "stdout",
     "output_type": "stream",
     "text": [
      "Number of testing records : 319634\n"
     ]
    },
    {
     "name": "stderr",
     "output_type": "stream",
     "text": [
      "[Stage 20:======================================================> (39 + 1) / 40]\r"
     ]
    },
    {
     "name": "stdout",
     "output_type": "stream",
     "text": [
      "Number of prediction records : 35194\n"
     ]
    },
    {
     "name": "stderr",
     "output_type": "stream",
     "text": [
      "                                                                                \r"
     ]
    }
   ],
   "source": [
    "print(\"Number of training records: \" + str(train_data.count()))\n",
    "print(\"Number of testing records : \" + str(test_data.count()))\n",
    "print(\"Number of prediction records : \" + str(predict_data.count()))"
   ]
  },
  {
   "cell_type": "markdown",
   "metadata": {},
   "source": [
    "### 2.2: Create pipeline and train a model"
   ]
  },
  {
   "cell_type": "markdown",
   "metadata": {},
   "source": [
    "For this lab, your job is to build a model that classifies the `loan_status`. In this section you will create a machine learning pipeline and then train the model. The next cell imports all the packages you will need:"
   ]
  },
  {
   "cell_type": "code",
   "execution_count": 15,
   "metadata": {},
   "outputs": [],
   "source": [
    "from pyspark.ml.feature import OneHotEncoder, StringIndexer, IndexToString, VectorAssembler\n",
    "from pyspark.ml.classification import RandomForestClassifier\n",
    "from pyspark.ml.evaluation import BinaryClassificationEvaluator, MulticlassClassificationEvaluator\n",
    "from pyspark.ml import Pipeline, Model"
   ]
  },
  {
   "cell_type": "markdown",
   "metadata": {},
   "source": [
    "In the following step, convert all the string fields to numeric indices. Look at the DataFrame schema to determine which ones you need to convert. Use the `StringIndexer` estimator. You need to create a transformer for each column you want to modify because the \"model\" has to find out how many distinct options there are for the variable in order to assign consistent integer values.\n",
    "\n",
    "The format of the command will be `StringIndexer(inputCol=\"[INPUT COL NAME]\", outputCol=\"[OUTPUT COL NAME]\")`"
   ]
  },
  {
   "cell_type": "code",
   "execution_count": 86,
   "metadata": {},
   "outputs": [
    {
     "name": "stdout",
     "output_type": "stream",
     "text": [
      "root\n",
      " |-- int_rate: double (nullable = true)\n",
      " |-- term: string (nullable = true)\n",
      " |-- loan_status: string (nullable = true)\n",
      " |-- home_ownership: string (nullable = true)\n",
      " |-- tot_cur_bal: double (nullable = true)\n",
      " |-- annual_inc: double (nullable = true)\n",
      " |-- grade: string (nullable = true)\n",
      " |-- bc_util: double (nullable = true)\n",
      "\n"
     ]
    }
   ],
   "source": [
    "df.printSchema()"
   ]
  },
  {
   "cell_type": "code",
   "execution_count": 16,
   "metadata": {},
   "outputs": [],
   "source": [
    "stringIndexer_loan = StringIndexer(inputCol=\"loan_status\", outputCol=\"loan_success\")\n",
    "stringIndexer_term = StringIndexer(inputCol=\"term\", outputCol=\"term_ix\")\n",
    "stringIndexer_home = StringIndexer(inputCol='home_ownership', outputCol='home_ownership_ix')\n",
    "stringIndexer_grade = StringIndexer(inputCol='grade', outputCol='grade_ix')"
   ]
  },
  {
   "cell_type": "markdown",
   "metadata": {},
   "source": [
    "Try looking at the values for one of the re-encoded columns using the `labels` method. Does it work?"
   ]
  },
  {
   "cell_type": "code",
   "execution_count": 17,
   "metadata": {},
   "outputs": [
    {
     "ename": "AttributeError",
     "evalue": "'StringIndexer' object has no attribute 'labels'",
     "output_type": "error",
     "traceback": [
      "\u001b[0;31m---------------------------------------------------------------------------\u001b[0m",
      "\u001b[0;31mAttributeError\u001b[0m                            Traceback (most recent call last)",
      "\u001b[0;32m/tmp/ipykernel_29972/3726297414.py\u001b[0m in \u001b[0;36m<module>\u001b[0;34m\u001b[0m\n\u001b[0;32m----> 1\u001b[0;31m \u001b[0mstringIndexer_grade\u001b[0m\u001b[0;34m.\u001b[0m\u001b[0mlabels\u001b[0m\u001b[0;34m\u001b[0m\u001b[0;34m\u001b[0m\u001b[0m\n\u001b[0m",
      "\u001b[0;31mAttributeError\u001b[0m: 'StringIndexer' object has no attribute 'labels'"
     ]
    }
   ],
   "source": [
    "stringIndexer_grade.labels"
   ]
  },
  {
   "cell_type": "markdown",
   "metadata": {},
   "source": [
    "To see the values of the labels, the estimator needs to be fitted and made a transformer first. You can do so by using the `fit` method. Try that now:"
   ]
  },
  {
   "cell_type": "code",
   "execution_count": 18,
   "metadata": {},
   "outputs": [
    {
     "name": "stderr",
     "output_type": "stream",
     "text": [
      "                                                                                \r"
     ]
    }
   ],
   "source": [
    "model_loan = stringIndexer_loan.fit(df)"
   ]
  },
  {
   "cell_type": "code",
   "execution_count": 19,
   "metadata": {},
   "outputs": [
    {
     "data": {
      "text/plain": [
       "['Fully Paid', 'Charged Off']"
      ]
     },
     "execution_count": 19,
     "metadata": {},
     "output_type": "execute_result"
    }
   ],
   "source": [
    "model_loan.labels"
   ]
  },
  {
   "cell_type": "markdown",
   "metadata": {},
   "source": [
    "In this step, we need to convert our index variables that have more than two levels. Use the function OneHotEncoder [(read more here)](https://spark.apache.org/docs/latest/api/python/reference/api/pyspark.ml.feature.OneHotEncoder.html). The format is the same as the StringIndexer."
   ]
  },
  {
   "cell_type": "code",
   "execution_count": 20,
   "metadata": {},
   "outputs": [],
   "source": [
    "onehot_home = OneHotEncoder(inputCol=\"home_ownership_ix\", outputCol=\"home_ownership_vec\")\n",
    "onehot_grade = OneHotEncoder(inputCol=\"grade_ix\", outputCol=\"grade_vec\")"
   ]
  },
  {
   "cell_type": "markdown",
   "metadata": {},
   "source": [
    "In the following step, create a feature vector by combining all string features together using the `vectorAssembler` method:"
   ]
  },
  {
   "cell_type": "code",
   "execution_count": 21,
   "metadata": {},
   "outputs": [],
   "source": [
    "vectorAssembler_features = VectorAssembler(\n",
    "    inputCols=['term_ix', 'home_ownership_vec', 'grade_vec'], \n",
    "    outputCol= \"features\")"
   ]
  },
  {
   "cell_type": "markdown",
   "metadata": {},
   "source": [
    "What does the resulting transformer look like? There is no data here because the transformer is just the blueprint for the change in the DataFrame"
   ]
  },
  {
   "cell_type": "code",
   "execution_count": 22,
   "metadata": {},
   "outputs": [
    {
     "data": {
      "text/plain": [
       "VectorAssembler_4e043a22878e"
      ]
     },
     "execution_count": 22,
     "metadata": {},
     "output_type": "execute_result"
    }
   ],
   "source": [
    "vectorAssembler_features"
   ]
  },
  {
   "cell_type": "markdown",
   "metadata": {},
   "source": [
    "Next, define the estimator you want to use for classification. You will build a Random Forest using the `RandomForestClassifier` [estimator](https://spark.apache.org/docs/latest/api/python/reference/api/pyspark.ml.classification.RandomForestClassifier.html). This function is also where you would adjust hyperparameters for your model."
   ]
  },
  {
   "cell_type": "code",
   "execution_count": 23,
   "metadata": {},
   "outputs": [],
   "source": [
    "rf = RandomForestClassifier(labelCol=\"loan_success\", featuresCol=\"features\", numTrees=50)"
   ]
  },
  {
   "cell_type": "markdown",
   "metadata": {},
   "source": [
    "Finally, indexed labels back to original labels."
   ]
  },
  {
   "cell_type": "code",
   "execution_count": 24,
   "metadata": {},
   "outputs": [],
   "source": [
    "labelConverter = IndexToString(inputCol=\"prediction\", \n",
    "                               outputCol=\"predictedLoanStatus\", \n",
    "                               labels= ['Fully Paid', 'Charged Off'])"
   ]
  },
  {
   "cell_type": "markdown",
   "metadata": {},
   "source": [
    "Let's build the pipeline now. A pipeline consists of transformers and an estimator."
   ]
  },
  {
   "cell_type": "code",
   "execution_count": 25,
   "metadata": {},
   "outputs": [],
   "source": [
    "pipeline_rf = Pipeline(stages=[stringIndexer_loan, \n",
    "                               stringIndexer_term, \n",
    "                               stringIndexer_home, \n",
    "                               stringIndexer_grade, \n",
    "                               onehot_home,\n",
    "                               onehot_grade,\n",
    "                               vectorAssembler_features, \n",
    "                               rf, labelConverter])"
   ]
  },
  {
   "cell_type": "markdown",
   "metadata": {},
   "source": [
    "Now, you can train your Random Forest model by using the previously defined **pipeline** and **train data**."
   ]
  },
  {
   "cell_type": "code",
   "execution_count": 26,
   "metadata": {},
   "outputs": [
    {
     "ename": "NameError",
     "evalue": "name 'train_data' is not defined",
     "output_type": "error",
     "traceback": [
      "\u001b[0;31m---------------------------------------------------------------------------\u001b[0m",
      "\u001b[0;31mNameError\u001b[0m                                 Traceback (most recent call last)",
      "\u001b[0;32m/tmp/ipykernel_29972/141392445.py\u001b[0m in \u001b[0;36m<module>\u001b[0;34m\u001b[0m\n\u001b[0;32m----> 1\u001b[0;31m \u001b[0mtrain_data\u001b[0m\u001b[0;34m.\u001b[0m\u001b[0mprintSchema\u001b[0m\u001b[0;34m(\u001b[0m\u001b[0;34m)\u001b[0m\u001b[0;34m\u001b[0m\u001b[0;34m\u001b[0m\u001b[0m\n\u001b[0m",
      "\u001b[0;31mNameError\u001b[0m: name 'train_data' is not defined"
     ]
    }
   ],
   "source": [
    "train_data.printSchema()"
   ]
  },
  {
   "cell_type": "code",
   "execution_count": 29,
   "metadata": {},
   "outputs": [
    {
     "name": "stderr",
     "output_type": "stream",
     "text": [
      "[Stage 25:=====================================================>  (19 + 1) / 20]\r"
     ]
    },
    {
     "name": "stdout",
     "output_type": "stream",
     "text": [
      "+-------------------+----------+-----------+--------------+-----------+----------+-----+-------+\n",
      "|           int_rate|      term|loan_status|home_ownership|tot_cur_bal|annual_inc|grade|bc_util|\n",
      "+-------------------+----------+-----------+--------------+-----------+----------+-----+-------+\n",
      "|0.05309999942779541| 36 months|Charged Off|      MORTGAGE|    13153.0|   65400.0|    A|   70.3|\n",
      "|0.05309999942779541| 36 months|Charged Off|      MORTGAGE|    15169.0|   85000.0|    A|   22.2|\n",
      "|0.05309999942779541| 36 months|Charged Off|      MORTGAGE|    16313.0|  130000.0|    A|   21.4|\n",
      "|0.05309999942779541| 36 months|Charged Off|      MORTGAGE|    16848.0|   45000.0|    A|   13.3|\n",
      "|0.05309999942779541| 36 months|Charged Off|      MORTGAGE|    29641.0|  161000.0|    A|   29.8|\n",
      "|0.05309999942779541| 36 months|Charged Off|      MORTGAGE|    36754.0|  120000.0|    A|   34.7|\n",
      "|0.05309999942779541| 36 months|Charged Off|      MORTGAGE|    37312.0|   90000.0|    A|   21.2|\n",
      "|0.05309999942779541| 36 months|Charged Off|      MORTGAGE|    57354.0|   20000.0|    A|   23.9|\n",
      "|0.05309999942779541| 36 months|Charged Off|      MORTGAGE|    61380.0|   40000.0|    A|   30.2|\n",
      "|0.05309999942779541| 36 months|Charged Off|      MORTGAGE|    63933.0|   60000.0|    A|   10.0|\n",
      "+-------------------+----------+-----------+--------------+-----------+----------+-----+-------+\n",
      "only showing top 10 rows\n",
      "\n"
     ]
    },
    {
     "name": "stderr",
     "output_type": "stream",
     "text": [
      "                                                                                \r"
     ]
    }
   ],
   "source": [
    "train_data.show(10)"
   ]
  },
  {
   "cell_type": "code",
   "execution_count": 30,
   "metadata": {},
   "outputs": [
    {
     "name": "stderr",
     "output_type": "stream",
     "text": [
      "                                                                                \r"
     ]
    }
   ],
   "source": [
    "model_rf = pipeline_rf.fit(train_data)"
   ]
  },
  {
   "cell_type": "markdown",
   "metadata": {},
   "source": [
    "What does `model_rf` look like? What is it, an estimator or a transformer?"
   ]
  },
  {
   "cell_type": "code",
   "execution_count": 31,
   "metadata": {},
   "outputs": [
    {
     "data": {
      "text/plain": [
       "pyspark.ml.pipeline.PipelineModel"
      ]
     },
     "execution_count": 31,
     "metadata": {},
     "output_type": "execute_result"
    }
   ],
   "source": [
    "type(model_rf)"
   ]
  },
  {
   "cell_type": "markdown",
   "metadata": {},
   "source": [
    "What happens when you send the train data through the transform method?"
   ]
  },
  {
   "cell_type": "code",
   "execution_count": 32,
   "metadata": {},
   "outputs": [],
   "source": [
    "train_pred = model_rf.transform(train_data)"
   ]
  },
  {
   "cell_type": "code",
   "execution_count": 33,
   "metadata": {},
   "outputs": [
    {
     "name": "stdout",
     "output_type": "stream",
     "text": [
      "root\n",
      " |-- int_rate: double (nullable = true)\n",
      " |-- term: string (nullable = true)\n",
      " |-- loan_status: string (nullable = true)\n",
      " |-- home_ownership: string (nullable = true)\n",
      " |-- tot_cur_bal: double (nullable = true)\n",
      " |-- annual_inc: double (nullable = true)\n",
      " |-- grade: string (nullable = true)\n",
      " |-- bc_util: double (nullable = true)\n",
      " |-- loan_success: double (nullable = false)\n",
      " |-- term_ix: double (nullable = false)\n",
      " |-- home_ownership_ix: double (nullable = false)\n",
      " |-- grade_ix: double (nullable = false)\n",
      " |-- home_ownership_vec: vector (nullable = true)\n",
      " |-- grade_vec: vector (nullable = true)\n",
      " |-- features: vector (nullable = true)\n",
      " |-- rawPrediction: vector (nullable = true)\n",
      " |-- probability: vector (nullable = true)\n",
      " |-- prediction: double (nullable = false)\n",
      " |-- predictedLoanStatus: string (nullable = true)\n",
      "\n"
     ]
    }
   ],
   "source": [
    "train_pred.printSchema()"
   ]
  },
  {
   "cell_type": "code",
   "execution_count": 34,
   "metadata": {},
   "outputs": [
    {
     "name": "stderr",
     "output_type": "stream",
     "text": [
      "                                                                                \r"
     ]
    },
    {
     "data": {
      "text/plain": [
       "0.803683830867894"
      ]
     },
     "execution_count": 34,
     "metadata": {},
     "output_type": "execute_result"
    }
   ],
   "source": [
    "train_pred.filter(col('loan_status')==col('predictedLoanStatus')).count()/train_pred.count()"
   ]
  },
  {
   "cell_type": "markdown",
   "metadata": {},
   "source": [
    "## 3.1 Model Test Results"
   ]
  },
  {
   "cell_type": "markdown",
   "metadata": {},
   "source": [
    "In this section, we will evaluate the **model accuracy**. This requires using the evaluator `MulticlassClassificationEvaluator`, which you can read about in the doc [here](https://spark.apache.org/docs/latest/api/python/reference/api/pyspark.ml.evaluation.MulticlassClassificationEvaluator.html). To evaluate the model, use **test data**."
   ]
  },
  {
   "cell_type": "markdown",
   "metadata": {},
   "source": [
    "First, let's transform the test data using our model pipeline"
   ]
  },
  {
   "cell_type": "code",
   "execution_count": 35,
   "metadata": {},
   "outputs": [],
   "source": [
    "predictions = model_rf.transform(test_data)"
   ]
  },
  {
   "cell_type": "markdown",
   "metadata": {},
   "source": [
    "Next, let's run the `MulticlassClassificationEvaluator` by passing in the label column (acutal result), prediction column (from our model), and the metric we want to calculate."
   ]
  },
  {
   "cell_type": "code",
   "execution_count": 36,
   "metadata": {},
   "outputs": [
    {
     "name": "stderr",
     "output_type": "stream",
     "text": [
      "                                                                                \r"
     ]
    }
   ],
   "source": [
    "evaluatorRF = MulticlassClassificationEvaluator(labelCol=\"loan_success\", predictionCol=\"prediction\", metricName=\"accuracy\")\n",
    "accuracy = evaluatorRF.evaluate(predictions)"
   ]
  },
  {
   "cell_type": "code",
   "execution_count": 37,
   "metadata": {},
   "outputs": [
    {
     "name": "stdout",
     "output_type": "stream",
     "text": [
      "Accuracy = 0.803225\n",
      "Test Error = 0.196775\n"
     ]
    }
   ],
   "source": [
    "print(\"Accuracy = %g\" % accuracy)\n",
    "print(\"Test Error = %g\" % (1.0 - accuracy))"
   ]
  },
  {
   "cell_type": "markdown",
   "metadata": {},
   "source": [
    "Was the test error similar to the train error? Run the same accuracy metrics on the training data"
   ]
  },
  {
   "cell_type": "code",
   "execution_count": 38,
   "metadata": {},
   "outputs": [],
   "source": [
    "train_pred = model_rf.transform(train_data)"
   ]
  },
  {
   "cell_type": "code",
   "execution_count": 39,
   "metadata": {},
   "outputs": [
    {
     "name": "stderr",
     "output_type": "stream",
     "text": [
      "                                                                                \r"
     ]
    }
   ],
   "source": [
    "accuracy = evaluatorRF.evaluate(train_pred)"
   ]
  },
  {
   "cell_type": "code",
   "execution_count": 40,
   "metadata": {},
   "outputs": [
    {
     "name": "stdout",
     "output_type": "stream",
     "text": [
      "Accuracy = 0.803684\n",
      "Train Error = 0.196316\n"
     ]
    }
   ],
   "source": [
    "print(\"Accuracy = %g\" % accuracy)\n",
    "print(\"Train Error = %g\" % (1.0 - accuracy))"
   ]
  },
  {
   "cell_type": "markdown",
   "metadata": {},
   "source": [
    "## 3.2 Confusion Matrix"
   ]
  },
  {
   "cell_type": "markdown",
   "metadata": {},
   "source": [
    "In this section, we will build the confusion matrix from the model. We will use sci-kit learn to build the confusion matrix. We first have to extract the predicted label and the true label columns. These are the numeric binary form of the data. Finally, send them through the `confusion_matrix` method."
   ]
  },
  {
   "cell_type": "code",
   "execution_count": 41,
   "metadata": {},
   "outputs": [],
   "source": [
    "from sklearn.metrics import confusion_matrix"
   ]
  },
  {
   "cell_type": "code",
   "execution_count": 42,
   "metadata": {},
   "outputs": [
    {
     "name": "stderr",
     "output_type": "stream",
     "text": [
      "                                                                                \r"
     ]
    }
   ],
   "source": [
    "y_pred=predictions.select(\"predictedLoanStatus\").collect()\n",
    "y_orig=predictions.select(\"loan_status\").collect()"
   ]
  },
  {
   "cell_type": "code",
   "execution_count": 43,
   "metadata": {},
   "outputs": [
    {
     "name": "stdout",
     "output_type": "stream",
     "text": [
      "Confusion Matrix:\n",
      "[[     0  62896]\n",
      " [     0 256738]]\n"
     ]
    }
   ],
   "source": [
    "cm = confusion_matrix(y_orig, y_pred)\n",
    "print(\"Confusion Matrix:\")\n",
    "print(cm)"
   ]
  },
  {
   "cell_type": "markdown",
   "metadata": {},
   "source": [
    "## 3.3 ROC Curve"
   ]
  },
  {
   "cell_type": "markdown",
   "metadata": {},
   "source": [
    "In this section, we will evaluate the **model area under the curve**. This requires using the evaluator `BinaryClassificationEvaluator`, which you can read about in the doc [here](https://spark.apache.org/docs/latest/api/python/reference/api/pyspark.ml.evaluation.BinaryClassificationEvaluator.html). To evaluate the model, use **test data**."
   ]
  },
  {
   "cell_type": "code",
   "execution_count": 44,
   "metadata": {},
   "outputs": [
    {
     "name": "stderr",
     "output_type": "stream",
     "text": [
      "                                                                                \r"
     ]
    },
    {
     "data": {
      "text/plain": [
       "0.5"
      ]
     },
     "execution_count": 44,
     "metadata": {},
     "output_type": "execute_result"
    }
   ],
   "source": [
    "evaluatorRF = BinaryClassificationEvaluator(labelCol=\"loan_success\", rawPredictionCol=\"prediction\", metricName=\"areaUnderROC\")\n",
    "roc_result = evaluatorRF.evaluate(predictions)\n",
    "roc_result"
   ]
  },
  {
   "cell_type": "markdown",
   "metadata": {},
   "source": [
    "**Run this cell to export model metrics to a json for grading**"
   ]
  },
  {
   "cell_type": "code",
   "execution_count": 45,
   "metadata": {
    "tags": []
   },
   "outputs": [],
   "source": [
    "import json\n",
    "json.dump({'roc' : roc_result,\n",
    "           'cm' : str(cm),\n",
    "           'acc' : accuracy\n",
    "          },\n",
    "          fp = open('data-soln-2.json','w'))"
   ]
  },
  {
   "cell_type": "markdown",
   "metadata": {
    "tags": []
   },
   "source": [
    "# MAKE SURE YOU STOP YOUR EMR CLUSTER!"
   ]
  },
  {
   "cell_type": "code",
   "execution_count": null,
   "metadata": {},
   "outputs": [],
   "source": [
    "spark.stop()"
   ]
  }
 ],
 "metadata": {
  "kernelspec": {
   "display_name": "Python 3 (ipykernel)",
   "language": "python",
   "name": "python3"
  },
  "language_info": {
   "codemirror_mode": {
    "name": "ipython",
    "version": 3
   },
   "file_extension": ".py",
   "mimetype": "text/x-python",
   "name": "python",
   "nbconvert_exporter": "python",
   "pygments_lexer": "ipython3",
   "version": "3.7.11"
  }
 },
 "nbformat": 4,
 "nbformat_minor": 4
}
